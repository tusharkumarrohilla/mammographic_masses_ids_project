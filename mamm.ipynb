{
  "nbformat": 4,
  "nbformat_minor": 0,
  "metadata": {
    "colab": {
      "name": "mamm.ipynb",
      "provenance": [],
      "collapsed_sections": [],
      "include_colab_link": true
    },
    "kernelspec": {
      "name": "python3",
      "display_name": "Python 3"
    }
  },
  "cells": [
    {
      "cell_type": "markdown",
      "metadata": {
        "id": "view-in-github",
        "colab_type": "text"
      },
      "source": [
        "<a href=\"https://colab.research.google.com/github/tusharkumarrohilla/mammographic_masses_ids_project/blob/main/mamm.ipynb\" target=\"_parent\"><img src=\"https://colab.research.google.com/assets/colab-badge.svg\" alt=\"Open In Colab\"/></a>"
      ]
    },
    {
      "cell_type": "code",
      "metadata": {
        "colab": {
          "base_uri": "https://localhost:8080/",
          "height": 36
        },
        "id": "iSXCWR_AkXkE",
        "outputId": "9ff3d529-5b2d-4028-c4d6-f1afa1f0eba4"
      },
      "source": [
        "pwd"
      ],
      "execution_count": 1,
      "outputs": [
        {
          "output_type": "execute_result",
          "data": {
            "application/vnd.google.colaboratory.intrinsic+json": {
              "type": "string"
            },
            "text/plain": [
              "'/content'"
            ]
          },
          "metadata": {
            "tags": []
          },
          "execution_count": 1
        }
      ]
    },
    {
      "cell_type": "code",
      "metadata": {
        "id": "ovP_ow7n2aSq"
      },
      "source": [
        "# !pip install numpy pandas sklearn seaborn"
      ],
      "execution_count": 12,
      "outputs": []
    },
    {
      "cell_type": "code",
      "metadata": {
        "id": "5K7TqNL2kO55"
      },
      "source": [
        "import numpy as np\n",
        "import pandas as pd\n",
        "from sklearn import model_selection\n",
        "from sklearn.preprocessing import StandardScaler\n",
        "from sklearn import tree\n",
        "from sklearn import svm\n",
        "from sklearn import linear_model\n",
        "from sklearn.model_selection import train_test_split\n",
        "import matplotlib.pyplot as plt\n",
        "from sklearn import tree\n",
        "import seaborn as sns\n"
      ],
      "execution_count": 28,
      "outputs": []
    },
    {
      "cell_type": "code",
      "metadata": {
        "colab": {
          "base_uri": "https://localhost:8080/",
          "height": 340
        },
        "id": "MXxXJq-Ak2CC",
        "outputId": "56dc7604-55c1-4fec-a60d-90893e999ac8"
      },
      "source": [
        "input_file = 'mammographic_masses.data.txt'\n",
        "masses_data = pd.read_csv(input_file,names =['BI-RADS','Age','Shape','Margin','Density','Severity'],usecols = ['Age','Shape','Margin','Density','Severity'],na_values='?')\n",
        "masses_data.head(10)\n",
        "\n"
      ],
      "execution_count": 29,
      "outputs": [
        {
          "output_type": "execute_result",
          "data": {
            "text/html": [
              "<div>\n",
              "<style scoped>\n",
              "    .dataframe tbody tr th:only-of-type {\n",
              "        vertical-align: middle;\n",
              "    }\n",
              "\n",
              "    .dataframe tbody tr th {\n",
              "        vertical-align: top;\n",
              "    }\n",
              "\n",
              "    .dataframe thead th {\n",
              "        text-align: right;\n",
              "    }\n",
              "</style>\n",
              "<table border=\"1\" class=\"dataframe\">\n",
              "  <thead>\n",
              "    <tr style=\"text-align: right;\">\n",
              "      <th></th>\n",
              "      <th>Age</th>\n",
              "      <th>Shape</th>\n",
              "      <th>Margin</th>\n",
              "      <th>Density</th>\n",
              "      <th>Severity</th>\n",
              "    </tr>\n",
              "  </thead>\n",
              "  <tbody>\n",
              "    <tr>\n",
              "      <th>0</th>\n",
              "      <td>67.0</td>\n",
              "      <td>3.0</td>\n",
              "      <td>5.0</td>\n",
              "      <td>3.0</td>\n",
              "      <td>1</td>\n",
              "    </tr>\n",
              "    <tr>\n",
              "      <th>1</th>\n",
              "      <td>43.0</td>\n",
              "      <td>1.0</td>\n",
              "      <td>1.0</td>\n",
              "      <td>NaN</td>\n",
              "      <td>1</td>\n",
              "    </tr>\n",
              "    <tr>\n",
              "      <th>2</th>\n",
              "      <td>58.0</td>\n",
              "      <td>4.0</td>\n",
              "      <td>5.0</td>\n",
              "      <td>3.0</td>\n",
              "      <td>1</td>\n",
              "    </tr>\n",
              "    <tr>\n",
              "      <th>3</th>\n",
              "      <td>28.0</td>\n",
              "      <td>1.0</td>\n",
              "      <td>1.0</td>\n",
              "      <td>3.0</td>\n",
              "      <td>0</td>\n",
              "    </tr>\n",
              "    <tr>\n",
              "      <th>4</th>\n",
              "      <td>74.0</td>\n",
              "      <td>1.0</td>\n",
              "      <td>5.0</td>\n",
              "      <td>NaN</td>\n",
              "      <td>1</td>\n",
              "    </tr>\n",
              "    <tr>\n",
              "      <th>5</th>\n",
              "      <td>65.0</td>\n",
              "      <td>1.0</td>\n",
              "      <td>NaN</td>\n",
              "      <td>3.0</td>\n",
              "      <td>0</td>\n",
              "    </tr>\n",
              "    <tr>\n",
              "      <th>6</th>\n",
              "      <td>70.0</td>\n",
              "      <td>NaN</td>\n",
              "      <td>NaN</td>\n",
              "      <td>3.0</td>\n",
              "      <td>0</td>\n",
              "    </tr>\n",
              "    <tr>\n",
              "      <th>7</th>\n",
              "      <td>42.0</td>\n",
              "      <td>1.0</td>\n",
              "      <td>NaN</td>\n",
              "      <td>3.0</td>\n",
              "      <td>0</td>\n",
              "    </tr>\n",
              "    <tr>\n",
              "      <th>8</th>\n",
              "      <td>57.0</td>\n",
              "      <td>1.0</td>\n",
              "      <td>5.0</td>\n",
              "      <td>3.0</td>\n",
              "      <td>1</td>\n",
              "    </tr>\n",
              "    <tr>\n",
              "      <th>9</th>\n",
              "      <td>60.0</td>\n",
              "      <td>NaN</td>\n",
              "      <td>5.0</td>\n",
              "      <td>1.0</td>\n",
              "      <td>1</td>\n",
              "    </tr>\n",
              "  </tbody>\n",
              "</table>\n",
              "</div>"
            ],
            "text/plain": [
              "    Age  Shape  Margin  Density  Severity\n",
              "0  67.0    3.0     5.0      3.0         1\n",
              "1  43.0    1.0     1.0      NaN         1\n",
              "2  58.0    4.0     5.0      3.0         1\n",
              "3  28.0    1.0     1.0      3.0         0\n",
              "4  74.0    1.0     5.0      NaN         1\n",
              "5  65.0    1.0     NaN      3.0         0\n",
              "6  70.0    NaN     NaN      3.0         0\n",
              "7  42.0    1.0     NaN      3.0         0\n",
              "8  57.0    1.0     5.0      3.0         1\n",
              "9  60.0    NaN     5.0      1.0         1"
            ]
          },
          "metadata": {
            "tags": []
          },
          "execution_count": 29
        }
      ]
    },
    {
      "cell_type": "code",
      "metadata": {
        "id": "BIE2IhM42ZCK"
      },
      "source": [
        ""
      ],
      "execution_count": 14,
      "outputs": []
    },
    {
      "cell_type": "code",
      "metadata": {
        "colab": {
          "base_uri": "https://localhost:8080/",
          "height": 282
        },
        "id": "hdgwDsYFk26p",
        "outputId": "6cd507b3-790a-4f4a-992e-4d3b24c6f9a2"
      },
      "source": [
        "masses_data.describe()"
      ],
      "execution_count": 5,
      "outputs": [
        {
          "output_type": "execute_result",
          "data": {
            "text/html": [
              "<div>\n",
              "<style scoped>\n",
              "    .dataframe tbody tr th:only-of-type {\n",
              "        vertical-align: middle;\n",
              "    }\n",
              "\n",
              "    .dataframe tbody tr th {\n",
              "        vertical-align: top;\n",
              "    }\n",
              "\n",
              "    .dataframe thead th {\n",
              "        text-align: right;\n",
              "    }\n",
              "</style>\n",
              "<table border=\"1\" class=\"dataframe\">\n",
              "  <thead>\n",
              "    <tr style=\"text-align: right;\">\n",
              "      <th></th>\n",
              "      <th>Age</th>\n",
              "      <th>Shape</th>\n",
              "      <th>Margin</th>\n",
              "      <th>Density</th>\n",
              "      <th>Severity</th>\n",
              "    </tr>\n",
              "  </thead>\n",
              "  <tbody>\n",
              "    <tr>\n",
              "      <th>count</th>\n",
              "      <td>956.000000</td>\n",
              "      <td>930.000000</td>\n",
              "      <td>913.000000</td>\n",
              "      <td>885.000000</td>\n",
              "      <td>961.000000</td>\n",
              "    </tr>\n",
              "    <tr>\n",
              "      <th>mean</th>\n",
              "      <td>55.487448</td>\n",
              "      <td>2.721505</td>\n",
              "      <td>2.796276</td>\n",
              "      <td>2.910734</td>\n",
              "      <td>0.463059</td>\n",
              "    </tr>\n",
              "    <tr>\n",
              "      <th>std</th>\n",
              "      <td>14.480131</td>\n",
              "      <td>1.242792</td>\n",
              "      <td>1.566546</td>\n",
              "      <td>0.380444</td>\n",
              "      <td>0.498893</td>\n",
              "    </tr>\n",
              "    <tr>\n",
              "      <th>min</th>\n",
              "      <td>18.000000</td>\n",
              "      <td>1.000000</td>\n",
              "      <td>1.000000</td>\n",
              "      <td>1.000000</td>\n",
              "      <td>0.000000</td>\n",
              "    </tr>\n",
              "    <tr>\n",
              "      <th>25%</th>\n",
              "      <td>45.000000</td>\n",
              "      <td>2.000000</td>\n",
              "      <td>1.000000</td>\n",
              "      <td>3.000000</td>\n",
              "      <td>0.000000</td>\n",
              "    </tr>\n",
              "    <tr>\n",
              "      <th>50%</th>\n",
              "      <td>57.000000</td>\n",
              "      <td>3.000000</td>\n",
              "      <td>3.000000</td>\n",
              "      <td>3.000000</td>\n",
              "      <td>0.000000</td>\n",
              "    </tr>\n",
              "    <tr>\n",
              "      <th>75%</th>\n",
              "      <td>66.000000</td>\n",
              "      <td>4.000000</td>\n",
              "      <td>4.000000</td>\n",
              "      <td>3.000000</td>\n",
              "      <td>1.000000</td>\n",
              "    </tr>\n",
              "    <tr>\n",
              "      <th>max</th>\n",
              "      <td>96.000000</td>\n",
              "      <td>4.000000</td>\n",
              "      <td>5.000000</td>\n",
              "      <td>4.000000</td>\n",
              "      <td>1.000000</td>\n",
              "    </tr>\n",
              "  </tbody>\n",
              "</table>\n",
              "</div>"
            ],
            "text/plain": [
              "              Age       Shape      Margin     Density    Severity\n",
              "count  956.000000  930.000000  913.000000  885.000000  961.000000\n",
              "mean    55.487448    2.721505    2.796276    2.910734    0.463059\n",
              "std     14.480131    1.242792    1.566546    0.380444    0.498893\n",
              "min     18.000000    1.000000    1.000000    1.000000    0.000000\n",
              "25%     45.000000    2.000000    1.000000    3.000000    0.000000\n",
              "50%     57.000000    3.000000    3.000000    3.000000    0.000000\n",
              "75%     66.000000    4.000000    4.000000    3.000000    1.000000\n",
              "max     96.000000    4.000000    5.000000    4.000000    1.000000"
            ]
          },
          "metadata": {
            "tags": []
          },
          "execution_count": 5
        }
      ]
    },
    {
      "cell_type": "code",
      "metadata": {
        "id": "MuSYkOgjq4wc"
      },
      "source": [
        "most_occ = pd.get_dummies(masses_data['Shape']).sum().sort_values(ascending=False).index[0]\n",
        "# The above snippet makes a descending sorted array of the Embarked column and gets the first value\n",
        "\n",
        "def replace_nan(x):\n",
        "#Function to get the most occured element in case of null else returns the passed value\n",
        "    if pd.isnull(x):\n",
        "        return most_occ\n",
        "    else:\n",
        "        return x\n",
        "\n",
        "#Mapping the dataset according to replace_nan() function\n",
        "masses_data['Shape'] = masses_data['Shape'].map(replace_nan)\n"
      ],
      "execution_count": 6,
      "outputs": []
    },
    {
      "cell_type": "code",
      "metadata": {
        "colab": {
          "base_uri": "https://localhost:8080/",
          "height": 282
        },
        "id": "d2UzwF-AQnHq",
        "outputId": "f677ed42-c02e-442c-907f-7b8ed4757599"
      },
      "source": [
        "masses_data = masses_data.dropna()\n",
        "masses_data.describe()"
      ],
      "execution_count": 30,
      "outputs": [
        {
          "output_type": "execute_result",
          "data": {
            "text/html": [
              "<div>\n",
              "<style scoped>\n",
              "    .dataframe tbody tr th:only-of-type {\n",
              "        vertical-align: middle;\n",
              "    }\n",
              "\n",
              "    .dataframe tbody tr th {\n",
              "        vertical-align: top;\n",
              "    }\n",
              "\n",
              "    .dataframe thead th {\n",
              "        text-align: right;\n",
              "    }\n",
              "</style>\n",
              "<table border=\"1\" class=\"dataframe\">\n",
              "  <thead>\n",
              "    <tr style=\"text-align: right;\">\n",
              "      <th></th>\n",
              "      <th>Age</th>\n",
              "      <th>Shape</th>\n",
              "      <th>Margin</th>\n",
              "      <th>Density</th>\n",
              "      <th>Severity</th>\n",
              "    </tr>\n",
              "  </thead>\n",
              "  <tbody>\n",
              "    <tr>\n",
              "      <th>count</th>\n",
              "      <td>831.000000</td>\n",
              "      <td>831.000000</td>\n",
              "      <td>831.000000</td>\n",
              "      <td>831.000000</td>\n",
              "      <td>831.000000</td>\n",
              "    </tr>\n",
              "    <tr>\n",
              "      <th>mean</th>\n",
              "      <td>55.777377</td>\n",
              "      <td>2.783394</td>\n",
              "      <td>2.814681</td>\n",
              "      <td>2.915764</td>\n",
              "      <td>0.484958</td>\n",
              "    </tr>\n",
              "    <tr>\n",
              "      <th>std</th>\n",
              "      <td>14.663528</td>\n",
              "      <td>1.242331</td>\n",
              "      <td>1.566771</td>\n",
              "      <td>0.350737</td>\n",
              "      <td>0.500075</td>\n",
              "    </tr>\n",
              "    <tr>\n",
              "      <th>min</th>\n",
              "      <td>18.000000</td>\n",
              "      <td>1.000000</td>\n",
              "      <td>1.000000</td>\n",
              "      <td>1.000000</td>\n",
              "      <td>0.000000</td>\n",
              "    </tr>\n",
              "    <tr>\n",
              "      <th>25%</th>\n",
              "      <td>46.000000</td>\n",
              "      <td>2.000000</td>\n",
              "      <td>1.000000</td>\n",
              "      <td>3.000000</td>\n",
              "      <td>0.000000</td>\n",
              "    </tr>\n",
              "    <tr>\n",
              "      <th>50%</th>\n",
              "      <td>57.000000</td>\n",
              "      <td>3.000000</td>\n",
              "      <td>3.000000</td>\n",
              "      <td>3.000000</td>\n",
              "      <td>0.000000</td>\n",
              "    </tr>\n",
              "    <tr>\n",
              "      <th>75%</th>\n",
              "      <td>66.000000</td>\n",
              "      <td>4.000000</td>\n",
              "      <td>4.000000</td>\n",
              "      <td>3.000000</td>\n",
              "      <td>1.000000</td>\n",
              "    </tr>\n",
              "    <tr>\n",
              "      <th>max</th>\n",
              "      <td>96.000000</td>\n",
              "      <td>4.000000</td>\n",
              "      <td>5.000000</td>\n",
              "      <td>4.000000</td>\n",
              "      <td>1.000000</td>\n",
              "    </tr>\n",
              "  </tbody>\n",
              "</table>\n",
              "</div>"
            ],
            "text/plain": [
              "              Age       Shape      Margin     Density    Severity\n",
              "count  831.000000  831.000000  831.000000  831.000000  831.000000\n",
              "mean    55.777377    2.783394    2.814681    2.915764    0.484958\n",
              "std     14.663528    1.242331    1.566771    0.350737    0.500075\n",
              "min     18.000000    1.000000    1.000000    1.000000    0.000000\n",
              "25%     46.000000    2.000000    1.000000    3.000000    0.000000\n",
              "50%     57.000000    3.000000    3.000000    3.000000    0.000000\n",
              "75%     66.000000    4.000000    4.000000    3.000000    1.000000\n",
              "max     96.000000    4.000000    5.000000    4.000000    1.000000"
            ]
          },
          "metadata": {
            "tags": []
          },
          "execution_count": 30
        }
      ]
    },
    {
      "cell_type": "code",
      "metadata": {
        "id": "FCwLMG3b5rXx"
      },
      "source": [
        "# 11.7 persent data is drop  \n",
        "features = list(masses_data.columns[:4])\n",
        "X = masses_data[features].values\n",
        "\n",
        "labels = list(masses_data.columns[4:])\n",
        "y = masses_data[labels].values\n",
        "y = y.ravel()\n",
        "\n",
        "scaler  = StandardScaler()\n",
        "X = scaler.fit_transform(X)\n",
        "\n",
        "X_train, X_test, y_train, y_test = model_selection.train_test_split(X, y, test_size=0.25, random_state=0)"
      ],
      "execution_count": 31,
      "outputs": []
    },
    {
      "cell_type": "code",
      "metadata": {
        "colab": {
          "base_uri": "https://localhost:8080/",
          "height": 287
        },
        "id": "oFmoqsaYsLXT",
        "outputId": "4d3bfed4-66ed-4956-f23b-31b7ead19cb0"
      },
      "source": [
        "sns.heatmap(masses_data.corr(),annot=True)"
      ],
      "execution_count": 9,
      "outputs": [
        {
          "output_type": "execute_result",
          "data": {
            "text/plain": [
              "<matplotlib.axes._subplots.AxesSubplot at 0x7fbfb2062e10>"
            ]
          },
          "metadata": {
            "tags": []
          },
          "execution_count": 9
        },
        {
          "output_type": "display_data",
          "data": {
            "image/png": "[encoded data removed]",
            "text/plain": [
              "<Figure size 432x288 with 2 Axes>"
            ]
          },
          "metadata": {
            "tags": [],
            "needs_background": "light"
          }
        }
      ]
    },
    {
      "cell_type": "code",
      "metadata": {
        "colab": {
          "base_uri": "https://localhost:8080/",
          "height": 627
        },
        "id": "498Tl9jmPZJa",
        "outputId": "2805ca9e-b5f2-4200-f04d-dacab2331ec4"
      },
      "source": [
        "fig=plt.figure(figsize=(10,10))\n",
        "ax = fig.add_subplot(1,1,1)\n",
        "\n",
        "for idx, row in masses_data.iterrows():\n",
        "    ax.scatter(row[0], row[1], color = 'r' if row[4]==1 else 'b', marker='.')\n",
        "\n",
        "ax.set_xlabel('age')\n",
        "ax.set_ylabel('shape')\n",
        "ax.set_title('scatter plot')\n",
        "plt.show()"
      ],
      "execution_count": 32,
      "outputs": [
        {
          "output_type": "display_data",
          "data": {
            "image/png": "[encoded data removed]",
            "text/plain": [
              "<Figure size 720x720 with 1 Axes>"
            ]
          },
          "metadata": {
            "tags": []
          }
        }
      ]
    },
    {
      "cell_type": "code",
      "metadata": {
        "colab": {
          "base_uri": "https://localhost:8080/",
          "height": 627
        },
        "id": "XcXSXwUzx5Vx",
        "outputId": "bf6b2793-fc24-421a-d0fb-06a9ed7b3db2"
      },
      "source": [
        "import random\n",
        "fig=plt.figure(figsize=(10,10))\n",
        "ax = fig.add_subplot(1,1,1)\n",
        "\n",
        "for idx, row in masses_data.iterrows():\n",
        "    ax.scatter(row[1]+(random.random()*0.25),row[2]+(random.random()*0.25), color = 'r' if row[4]==1 else 'b', marker='.')\n",
        "# we scatter the points plotted to visualize the values that get stacked in ( x+(0,0.25) , y+(0,0.25) ) range \n",
        "\n",
        "ax.set_xlabel('shape')\n",
        "ax.set_ylabel('Margine')\n",
        "ax.set_title('scatter plot of shape vs margin')\n",
        "plt.show()"
      ],
      "execution_count": 33,
      "outputs": [
        {
          "output_type": "display_data",
          "data": {
            "image/png": "[encoded data removed]",
            "text/plain": [
              "<Figure size 720x720 with 1 Axes>"
            ]
          },
          "metadata": {
            "tags": []
          }
        }
      ]
    },
    {
      "cell_type": "code",
      "metadata": {
        "colab": {
          "base_uri": "https://localhost:8080/",
          "height": 627
        },
        "id": "YDV7mNfrrUbZ",
        "outputId": "6c95ef8c-52ae-4d90-c879-7c9941f69082"
      },
      "source": [
        "fig=plt.figure(figsize=(10,10))\n",
        "ax = fig.add_subplot(1,1,1)\n",
        "\n",
        "for idx, row in masses_data.iterrows():\n",
        "    ax.scatter(row[0], row[2], color = 'r' if row[4]==1 else 'b', marker='.')\n",
        "\n",
        "ax.set_xlabel('age')\n",
        "ax.set_ylabel('Margine')\n",
        "ax.set_title('scatter plot')\n",
        "plt.show()"
      ],
      "execution_count": 34,
      "outputs": [
        {
          "output_type": "display_data",
          "data": {
            "image/png": "[encoded data removed]",
            "text/plain": [
              "<Figure size 720x720 with 1 Axes>"
            ]
          },
          "metadata": {
            "tags": []
          }
        }
      ]
    },
    {
      "cell_type": "code",
      "metadata": {
        "colab": {
          "base_uri": "https://localhost:8080/",
          "height": 627
        },
        "id": "4Iz1mRqgOd31",
        "outputId": "52f52dc4-7288-4cf5-faad-b80450a2d9c7"
      },
      "source": [
        "fig=plt.figure(figsize=(10,10))\n",
        "ax = fig.add_subplot(1,1,1)\n",
        "\n",
        "for idx, row in masses_data.iterrows():\n",
        "    ax.scatter(row[0], row[3], color = 'r' if row[4]==1 else 'b', marker='.')\n",
        "\n",
        "ax.set_xlabel('age')\n",
        "ax.set_ylabel('Density')\n",
        "ax.set_title('scatter plot')\n",
        "plt.show()"
      ],
      "execution_count": 35,
      "outputs": [
        {
          "output_type": "display_data",
          "data": {
            "image/png": "[encoded data removed]",
            "text/plain": [
              "<Figure size 720x720 with 1 Axes>"
            ]
          },
          "metadata": {
            "tags": []
          }
        }
      ]
    },
    {
      "cell_type": "code",
      "metadata": {
        "colab": {
          "base_uri": "https://localhost:8080/"
        },
        "id": "1M4HR-y36RJi",
        "outputId": "b40be3da-9214-4164-c58e-7535fd0cc8a6"
      },
      "source": [
        "clf = linear_model.LogisticRegression(C=1e5)\n",
        "scores_lr = model_selection.cross_val_score(clf,X,y,cv=5)\n",
        "print(scores_lr)\n",
        "score_mean_lr=scores_lr.mean();\n",
        "print(\"score of LogisticRegression classifier :\",scores_lr.mean())"
      ],
      "execution_count": 36,
      "outputs": [
        {
          "output_type": "stream",
          "text": [
            "[0.75449102 0.8313253  0.77710843 0.80722892 0.8313253 ]\n",
            "score of LogisticRegression classifier : 0.8002957939542601\n"
          ],
          "name": "stdout"
        }
      ]
    },
    {
      "cell_type": "code",
      "metadata": {
        "id": "HPmlhtpLrTF0"
      },
      "source": [
        ""
      ],
      "execution_count": 14,
      "outputs": []
    },
    {
      "cell_type": "code",
      "metadata": {
        "colab": {
          "base_uri": "https://localhost:8080/",
          "height": 699
        },
        "id": "jIsn4pIaGGno",
        "outputId": "205756eb-11a4-425e-8e4a-9b678059f630"
      },
      "source": [
        "from sklearn.linear_model import LogisticRegression\n",
        "LogisticRegressionModel = LogisticRegression()\n",
        "LogisticRegressionModel.fit(X_train,y_train)\n",
        "y_pred = LogisticRegressionModel.predict(X_test)\n",
        "\n",
        "from sklearn.metrics import confusion_matrix\n",
        "cm = confusion_matrix(y_test,y_pred)\n",
        "print(cm)\n",
        "\n",
        "from sklearn.metrics import classification_report\n",
        "print(classification_report(y_test, y_pred))\n",
        "plt.scatter(y_test, y_pred, marker='*')"
      ],
      "execution_count": 37,
      "outputs": [
        {
          "output_type": "stream",
          "text": [
            "[[85 21]\n",
            " [ 9 93]]\n",
            "              precision    recall  f1-score   support\n",
            "\n",
            "           0       0.90      0.80      0.85       106\n",
            "           1       0.82      0.91      0.86       102\n",
            "\n",
            "    accuracy                           0.86       208\n",
            "   macro avg       0.86      0.86      0.86       208\n",
            "weighted avg       0.86      0.86      0.86       208\n",
            "\n"
          ],
          "name": "stdout"
        },
        {
          "output_type": "execute_result",
          "data": {
            "text/plain": [
              "<matplotlib.collections.PathCollection at 0x7fbfad1877f0>"
            ]
          },
          "metadata": {
            "tags": []
          },
          "execution_count": 37
        },
        {
          "output_type": "display_data",
          "data": {
            "image/png": "[encoded data removed]",
            "text/plain": [
              "<Figure size 576x576 with 1 Axes>"
            ]
          },
          "metadata": {
            "tags": []
          }
        }
      ]
    },
    {
      "cell_type": "code",
      "metadata": {
        "colab": {
          "base_uri": "https://localhost:8080/"
        },
        "id": "-XkBNUzu6LIY",
        "outputId": "e3f1e3ba-50e4-41f9-dc99-0275694a4cad"
      },
      "source": [
        "svm = svm.SVC(kernel='linear', C=1)\n",
        "scores_svm = model_selection.cross_val_score(svm,X,y,cv=5)\n",
        "print(scores_svm)\n",
        "score_mean_svm=scores_svm.mean();\n",
        "print(\"score of svm classifier :\",scores_svm.mean())"
      ],
      "execution_count": 38,
      "outputs": [
        {
          "output_type": "stream",
          "text": [
            "[0.74251497 0.8373494  0.77710843 0.80722892 0.80722892]\n",
            "score of svm classifier : 0.7942861265420966\n"
          ],
          "name": "stdout"
        }
      ]
    },
    {
      "cell_type": "code",
      "metadata": {
        "colab": {
          "base_uri": "https://localhost:8080/",
          "height": 699
        },
        "id": "p8ZLhVl2m9ka",
        "outputId": "1a56808c-f98b-45f8-9efe-566f111019da"
      },
      "source": [
        "from sklearn.tree import DecisionTreeClassifier\n",
        "DecisionTreeModel = DecisionTreeClassifier()\n",
        "DecisionTreeModel.fit(X_train,y_train)\n",
        "y_pred = DecisionTreeModel.predict(X_test)\n",
        "from sklearn.metrics import classification_report, confusion_matrix\n",
        "cm = confusion_matrix(y_test,y_pred)\n",
        "print(cm)\n",
        "\n",
        "from sklearn.metrics import classification_report\n",
        "print(classification_report(y_test, y_pred))\n",
        "plt.scatter(y_test, y_pred, marker='*')\n"
      ],
      "execution_count": 39,
      "outputs": [
        {
          "output_type": "stream",
          "text": [
            "[[85 21]\n",
            " [25 77]]\n",
            "              precision    recall  f1-score   support\n",
            "\n",
            "           0       0.77      0.80      0.79       106\n",
            "           1       0.79      0.75      0.77       102\n",
            "\n",
            "    accuracy                           0.78       208\n",
            "   macro avg       0.78      0.78      0.78       208\n",
            "weighted avg       0.78      0.78      0.78       208\n",
            "\n"
          ],
          "name": "stdout"
        },
        {
          "output_type": "execute_result",
          "data": {
            "text/plain": [
              "<matplotlib.collections.PathCollection at 0x7fbfae003828>"
            ]
          },
          "metadata": {
            "tags": []
          },
          "execution_count": 39
        },
        {
          "output_type": "display_data",
          "data": {
            "image/png": "[encoded data removed]",
            "text/plain": [
              "<Figure size 576x576 with 1 Axes>"
            ]
          },
          "metadata": {
            "tags": []
          }
        }
      ]
    },
    {
      "cell_type": "code",
      "metadata": {
        "id": "SDk_8i9pstk3"
      },
      "source": [
        ""
      ],
      "execution_count": 17,
      "outputs": []
    },
    {
      "cell_type": "code",
      "metadata": {
        "colab": {
          "base_uri": "https://localhost:8080/"
        },
        "id": "TVOOHdEs9kPa",
        "outputId": "2c444491-5fcb-4ca5-b616-7807b8af223e"
      },
      "source": [
        "score_mean_decisiontree= DecisionTreeModel.score(X_test,y_test)\n",
        "print(\"Score of Decision Tree Classifier: \", DecisionTreeModel.score (X_test,y_test))"
      ],
      "execution_count": 40,
      "outputs": [
        {
          "output_type": "stream",
          "text": [
            "Score of Decision Tree Classifier:  0.7788461538461539\n"
          ],
          "name": "stdout"
        }
      ]
    },
    {
      "cell_type": "code",
      "metadata": {
        "colab": {
          "base_uri": "https://localhost:8080/"
        },
        "id": "ToSMepN09NR4",
        "outputId": "2a417727-99eb-4ade-bc08-45697fa527f4"
      },
      "source": [
        "from sklearn.neighbors import KNeighborsClassifier\n",
        "\n",
        "knn = KNeighborsClassifier(n_neighbors=7)\n",
        "knn.fit(X_train,y_train)\n",
        "Y_pred_knn=knn.predict(X_test)\n",
        "scores_knn = model_selection.cross_val_score(knn,X,y,cv=5)\n",
        "print(scores_knn)\n",
        "score_mean_knn=scores_knn.mean();\n",
        "print(\"score of knn classifier :\",scores_knn.mean())"
      ],
      "execution_count": 41,
      "outputs": [
        {
          "output_type": "stream",
          "text": [
            "[0.74251497 0.79518072 0.79518072 0.8253012  0.80722892]\n",
            "score of knn classifier : 0.7930813072649882\n"
          ],
          "name": "stdout"
        }
      ]
    },
    {
      "cell_type": "code",
      "metadata": {
        "colab": {
          "base_uri": "https://localhost:8080/"
        },
        "id": "_zDqN7-BKuPj",
        "outputId": "5a89eec1-9dc5-4adc-cc75-722a99b01ca2"
      },
      "source": [
        "\n",
        "y_pred = KNeighborsClassifierModel.predict(X_test)\n",
        "from sklearn.metrics import confusion_matrix\n",
        "cm = confusion_matrix(y_test,y_pred)\n",
        "print(cm)"
      ],
      "execution_count": 42,
      "outputs": [
        {
          "output_type": "stream",
          "text": [
            "[[83 23]\n",
            " [10 92]]\n"
          ],
          "name": "stdout"
        }
      ]
    },
    {
      "cell_type": "code",
      "metadata": {
        "colab": {
          "base_uri": "https://localhost:8080/",
          "height": 503
        },
        "id": "d_9XDyh0tZ9d",
        "outputId": "dc1fbdb4-df67-4a50-f69b-38deace42173"
      },
      "source": [
        "plt.scatter(y_test, y_pred, marker='*')"
      ],
      "execution_count": 43,
      "outputs": [
        {
          "output_type": "execute_result",
          "data": {
            "text/plain": [
              "<matplotlib.collections.PathCollection at 0x7fbfada38ef0>"
            ]
          },
          "metadata": {
            "tags": []
          },
          "execution_count": 43
        },
        {
          "output_type": "display_data",
          "data": {
            "image/png": "[encoded data removed]",
            "text/plain": [
              "<Figure size 576x576 with 1 Axes>"
            ]
          },
          "metadata": {
            "tags": []
          }
        }
      ]
    },
    {
      "cell_type": "code",
      "metadata": {
        "colab": {
          "base_uri": "https://localhost:8080/"
        },
        "id": "1hRQ5rdPDZ5_",
        "outputId": "397d667c-15f9-4534-f23c-5f7566595318"
      },
      "source": [
        "from sklearn.ensemble import RandomForestClassifier\n",
        "rf = RandomForestClassifier(n_estimators=100, random_state=0)\n",
        "score_rf = model_selection.cross_val_score(rf,X,y,cv=5)\n",
        "print(score_rf)\n",
        "score_mean_rf=score_rf.mean();\n",
        "print(\"score of LogisticRegression classifier :\",score_rf.mean())"
      ],
      "execution_count": 45,
      "outputs": [
        {
          "output_type": "stream",
          "text": [
            "[0.73053892 0.76506024 0.75301205 0.77710843 0.73493976]\n",
            "score of LogisticRegression classifier : 0.7521318808166798\n"
          ],
          "name": "stdout"
        }
      ]
    },
    {
      "cell_type": "code",
      "metadata": {
        "id": "3skNLtnZDtro"
      },
      "source": [
        ""
      ],
      "execution_count": 22,
      "outputs": []
    },
    {
      "cell_type": "code",
      "metadata": {
        "id": "Fh7hvde1Ix4E"
      },
      "source": [
        ""
      ],
      "execution_count": 22,
      "outputs": []
    },
    {
      "cell_type": "code",
      "metadata": {
        "id": "iNpweT-mEL-N"
      },
      "source": [
        ""
      ],
      "execution_count": 22,
      "outputs": []
    },
    {
      "cell_type": "code",
      "metadata": {
        "id": "fds25x-7ElmR"
      },
      "source": [
        ""
      ],
      "execution_count": 22,
      "outputs": []
    },
    {
      "cell_type": "code",
      "metadata": {
        "colab": {
          "base_uri": "https://localhost:8080/"
        },
        "id": "p1nJiCFp_N1A",
        "outputId": "f44e1822-9752-4902-b48b-77a367001f6c"
      },
      "source": [
        "scores = [score_mean_lr,score_mean_knn,score_mean_svm,score_mean_decisiontree,score_mean_rf]\n",
        "algorithms = [\"Logistic Regression\",\"K-Nearest Neighbors\",\"svm\",\"decisiontree\",\"randomforest\"]\n",
        "\n",
        "for i in range(len(algorithms)):\n",
        "    scores[i]=scores[i]*100\n",
        "  # we substract 0.7 to visualize the data better due to very small dif\n",
        "    print(\"The accuracy score achieved using \"+algorithms[i]+\" is: \"+str(scores[i])+\" %\")\n",
        "    scores[i]=scores[i]-70"
      ],
      "execution_count": 46,
      "outputs": [
        {
          "output_type": "stream",
          "text": [
            "The accuracy score achieved using Logistic Regression is: 80.02957939542601 %\n",
            "The accuracy score achieved using K-Nearest Neighbors is: 79.30813072649882 %\n",
            "The accuracy score achieved using svm is: 79.42861265420966 %\n",
            "The accuracy score achieved using decisiontree is: 77.88461538461539 %\n",
            "The accuracy score achieved using randomforest is: 75.21318808166798 %\n"
          ],
          "name": "stdout"
        }
      ]
    },
    {
      "cell_type": "code",
      "metadata": {
        "colab": {
          "base_uri": "https://localhost:8080/",
          "height": 576
        },
        "id": "IYs25CB9_0kM",
        "outputId": "23d60f35-a932-41c0-e41a-987a85ebc35a"
      },
      "source": [
        "sns.set(rc={'figure.figsize':(8,8)})\n",
        "plt.ylabel(\"Algorithms \")\n",
        "plt.xlabel(\"Accuracy score (values = values-70)\")\n",
        "sns.barplot(scores,algorithms)"
      ],
      "execution_count": 48,
      "outputs": [
        {
          "output_type": "stream",
          "text": [
            "/usr/local/lib/python3.6/dist-packages/seaborn/_decorators.py:43: FutureWarning: Pass the following variables as keyword args: x, y. From version 0.12, the only valid positional argument will be `data`, and passing other arguments without an explicit keyword will result in an error or misinterpretation.\n",
            "  FutureWarning\n"
          ],
          "name": "stderr"
        },
        {
          "output_type": "execute_result",
          "data": {
            "text/plain": [
              "<matplotlib.axes._subplots.AxesSubplot at 0x7fbfac67eba8>"
            ]
          },
          "metadata": {
            "tags": []
          },
          "execution_count": 48
        },
        {
          "output_type": "display_data",
          "data": {
            "image/png": "[encoded data removed]",
            "text/plain": [
              "<Figure size 576x576 with 1 Axes>"
            ]
          },
          "metadata": {
            "tags": []
          }
        }
      ]
    },
    {
      "cell_type": "code",
      "metadata": {
        "id": "-rq1OfxlZgJm"
      },
      "source": [
        "from google.colab import drive\n",
        "drive.mount('/content/drive')"
      ],
      "execution_count": null,
      "outputs": []
    }
  ]
}